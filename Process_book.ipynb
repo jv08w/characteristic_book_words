{
 "cells": [
  {
   "cell_type": "markdown",
   "id": "0e035aef",
   "metadata": {},
   "source": [
    "Process Book Final Project\n",
    "\n",
    "Name: Julia Wervers\n",
    "Student number: 13168665"
   ]
  },
  {
   "cell_type": "markdown",
   "id": "87bcdb50",
   "metadata": {},
   "source": [
    "Date of entry: \n",
    "24/05/2024\n",
    "\n",
    "What I’ve worked on:\n",
    "Decided on project and brainstormed ideas to personalize it and make it my own. \n",
    "Browsed books afterwards using resources (see below) to see whether the idea was feasible. \n",
    "Used the gutenberg.org website to pick out 10 books for my project.\n",
    "\n",
    "What problems I encountered:\n",
    "\n",
    "What I learned:\n",
    "\n",
    "Which resources did I use:\n",
    "https://www.gutenberg.org/ebooks/search/?query=1984&submit_search=Go%21\n",
    "https://www.goodreads.com/\n"
   ]
  },
  {
   "cell_type": "markdown",
   "id": "cd76a03f",
   "metadata": {},
   "source": []
  },
  {
   "cell_type": "markdown",
   "id": "68626f8b",
   "metadata": {},
   "source": []
  }
 ],
 "metadata": {
  "kernelspec": {
   "display_name": "Python 3 (ipykernel)",
   "language": "python",
   "name": "python3"
  },
  "language_info": {
   "codemirror_mode": {
    "name": "ipython",
    "version": 3
   },
   "file_extension": ".py",
   "mimetype": "text/x-python",
   "name": "python",
   "nbconvert_exporter": "python",
   "pygments_lexer": "ipython3",
   "version": "3.11.7"
  }
 },
 "nbformat": 4,
 "nbformat_minor": 5
}
