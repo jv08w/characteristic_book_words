{
 "cells": [
  {
   "cell_type": "markdown",
   "id": "901e7ff3",
   "metadata": {},
   "source": [
    "Process Book Final Project\n",
    "\n",
    "Name: Julia Wervers\n",
    "Student number: 13168665"
   ]
  },
  {
   "cell_type": "markdown",
   "id": "27eca8df",
   "metadata": {},
   "source": [
    "Date of entry: \n",
    "24/05/2024\n",
    "\n",
    "What I’ve worked on:\n",
    "Decided on project and brainstormed ideas to personalize it and make it my own. \n",
    "Browsed books afterwards using resources (see below) to see whether the idea was feasible. \n",
    "Used the gutenberg.org website to pick out 10 books for my project.\n",
    "\n",
    "What problems I encountered:\n",
    "No problems encountered so far\n",
    "\n",
    "What I learned:\n",
    "No skills learned necessarily, but did learn more about all the possiblities that have opened up due to the skills that I have learned so far.\n",
    "\n",
    "Which resources did I use:\n",
    "https://www.gutenberg.org/ebooks/search/?query=1984&submit_search=Go%21\n",
    "https://www.goodreads.com/\n"
   ]
  },
  {
   "cell_type": "markdown",
   "id": "06f3aeab",
   "metadata": {},
   "source": [
    "Date of entry: \n",
    "25/05/2024\n",
    "\n",
    "What I’ve worked on:\n",
    "Set up git hub project and main files\n",
    "\n",
    "What problems I encountered:\n",
    "The CS50 tutorial is mac based, therefore commands like 'touch' did not work on my terminal, which confused me for a while. Realized this after some time though, and decided to add files manually in the IDE.\n",
    "\n",
    "What I learned:\n",
    "Learned about the advantages of git, and it's use in professional settings. \n",
    "\n",
    "Which resources did I use:\n",
    "https://www.youtube.com/watch?v=NcoBAfJ6l2Q&t=3190s"
   ]
  },
  {
   "cell_type": "markdown",
   "id": "a7320068",
   "metadata": {},
   "source": []
  }
 ],
 "metadata": {
  "kernelspec": {
   "display_name": "Python 3 (ipykernel)",
   "language": "python",
   "name": "python3"
  },
  "language_info": {
   "codemirror_mode": {
    "name": "ipython",
    "version": 3
   },
   "file_extension": ".py",
   "mimetype": "text/x-python",
   "name": "python",
   "nbconvert_exporter": "python",
   "pygments_lexer": "ipython3",
   "version": "3.11.7"
  }
 },
 "nbformat": 4,
 "nbformat_minor": 5
}
