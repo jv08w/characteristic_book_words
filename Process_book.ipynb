{
 "cells": [
  {
   "cell_type": "markdown",
   "id": "ced66bf1",
   "metadata": {},
   "source": [
    "Process Book Final Project\n",
    "\n",
    "Name: Julia Wervers\n",
    "Student number: 13168665"
   ]
  },
  {
   "cell_type": "markdown",
   "id": "fc325869",
   "metadata": {},
   "source": [
    "Date of entry: \n",
    "24/05/2024\n",
    "\n",
    "What I’ve worked on:\n",
    "Decided on project and brainstormed ideas to personalize it and make it my own. \n",
    "Browsed books afterwards using resources (see below) to see whether the idea was feasible. \n",
    "Used the gutenberg.org website to pick out 10 books for my project.\n",
    "\n",
    "What problems I encountered:\n",
    "No problems encountered so far\n",
    "\n",
    "What I learned:\n",
    "No skills learned necessarily, but did learn more about all the possiblities that have opened up due to the skills that I have learned so far.\n",
    "\n",
    "Which resources did I use:\n",
    "https://www.gutenberg.org/ebooks/search/?query=1984&submit_search=Go%21\n",
    "https://www.goodreads.com/\n"
   ]
  },
  {
   "cell_type": "markdown",
   "id": "0b422909",
   "metadata": {},
   "source": [
    "Date of entry: \n",
    "25/05/2024\n",
    "\n",
    "What I’ve worked on:\n",
    "Set up git hub project and main files\n",
    "\n",
    "What problems I encountered:\n",
    "The CS50 tutorial is mac based, therefore commands like 'touch' did not work on my terminal, which confused me for a while. Realized this after some time though, and decided to add files manually in the IDE. Also didn't realize that to update the files 'git add filename' has to be called everytime in conjunction with 'commit -m 'update text'' and 'git push'.\n",
    "\n",
    "What I learned:\n",
    "Learned about the advantages of git, and it's use in professional settings. \n",
    "\n",
    "Which resources did I use:\n",
    "https://www.youtube.com/watch?v=NcoBAfJ6l2Q&t=3190s\n",
    "https://stackoverflow.com/questions/3160976/should-i-have-to-add-files-to-git-every-time-i-want-to-commit"
   ]
  },
  {
   "cell_type": "markdown",
   "id": "ee28d122",
   "metadata": {},
   "source": [
    "Date of entry:\n",
    "26/05/2024\n",
    "\n",
    "What I’ve worked on:\n",
    "-Practiced with spaCy by completing the first two chapters. I also considered for every new piece of information whether it would be helpful for my final project. \n",
    "-Started working on the main code. I first started with making word lists of every word that occurs in the book 'Frankenstein'. I used spaCy to clean up the list, until I got a list of lemma words, without stopwords or punctuation. \n",
    "-Learned what TF-IDF is and why it is useful\n",
    "-Implemented a term frequency function, which calculates the term frequency for each word in a wordlist\n",
    "-Implemented the rest of the TF-IDF in order to get final scores in a stepwise manner. First extended the code to three books, then I implemented code to find all the unique words that occur in all documents. I used this to calculate the document frequency for each unique word, which allowed be to calculate the inverse document frequency for each word. After this, I finally implemented the last piece of code which uses all this previous word to calculate the TF-IDF scores for each word per document. I sorted these scores in an ascending order and decided (for now) to take the top 25 words per document. \n",
    "-Turned the TF-IDF code into a function, so that it can be used for both books and summaries. \n",
    "\n",
    "What problems I encountered:\n",
    "-Couldn't download \"en_core_web_sm\" from spaCy using the instructions in the tutorial, therefore used stackoverflow to find a solution.\n",
    "-Had some trouble with the spaCy matcher in the tutorial, as I didn't realize it needed to be reinitialized as to not add older patterns.\n",
    "-For the calculation of the TF-IDF scores I used quite a lot of list comprehensions with nested loops. Although these proved to be very useful, it definitly took me quite some time and tries to get them in the right format, as they aren't always the most intuitive.\n",
    "-Had quite a bit of trouble with sorting the final TF-IDF dictionary by it's values, I tried to find a solution on my own for quite a while, but ended up looking for help on stackoverflow. There I found a solution (see sources) which made use of the sorted function and a lambda function, I implemented this in my own code and made it fit my needs. \n",
    "\n",
    "What I learned:\n",
    "-Learned a lot about the basic functionality of spaCy, and how it can be utilized to meet different goals\n",
    "-Learned what TF-IDF is, how it can be calculated, and what it is useful for.\n",
    "-Learned to work more with list comprehensions with nested loops.\n",
    "-Learned how to sort a dictionary by it's values. \n",
    "-Learned how divide code into functions, in order to increase generalizability. \n",
    "\n",
    "Which resources did I use:\n",
    "https://course.spacy.io/en\n",
    "https://stackoverflow.com/questions/69304467/how-to-download-en-core-web-sm-model-at-runtime-in-spacy\n",
    "https://www.youtube.com/watch?v=OymqCnh-APA\n",
    "https://monkeylearn.com/blog/what-is-tf-idf/\n",
    "https://stackoverflow.com/questions/613183/how-do-i-sort-a-dictionary-by-value"
   ]
  }
 ],
 "metadata": {
  "kernelspec": {
   "display_name": "Python 3 (ipykernel)",
   "language": "python",
   "name": "python3"
  },
  "language_info": {
   "codemirror_mode": {
    "name": "ipython",
    "version": 3
   },
   "file_extension": ".py",
   "mimetype": "text/x-python",
   "name": "python",
   "nbconvert_exporter": "python",
   "pygments_lexer": "ipython3",
   "version": "3.11.7"
  }
 },
 "nbformat": 4,
 "nbformat_minor": 5
}
