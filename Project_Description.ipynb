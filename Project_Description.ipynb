{
 "cells": [
  {
   "cell_type": "markdown",
   "id": "eefc708c",
   "metadata": {},
   "source": [
    "Project Description of the final project of Data Processing\n",
    "\n",
    "Name: Julia Wervers\n",
    "Student Number: 13168665"
   ]
  },
  {
   "attachments": {},
   "cell_type": "markdown",
   "id": "257c50ff",
   "metadata": {},
   "source": [
    "As an avid reader, I was very interested in the suggested final project of using Goodreads book descriptions to generate keywords. My interest was especially piqued by the bonus question of whether book summaries can be used to find words that are characteristic of their books. \n",
    "Therefore my research question for the final project is: \"How representative are keywords extracted from book summaries of the actual book?\"\n",
    "\n",
    "In my quest to answer this question I was, of course, dependent on the available data. Fortunately, the full text of some books is freely available on the internet (see process book for source), and book summaries can freely be obtained from Goodreads. Therefore, I selected ten books of which the full text is available and also collected their summaries to use as data in this project. \n",
    "\n",
    "Having these books and their summaries, I still needed to decide on a metric to compare them. the suggested project description included learning about term frequency inverse document frequency (TF-IDF). As this calculation is used to find words characteristic of a particular document, it can be used to generate a list of keywords per book and per summary. By then calculating how many words from the summary keyword list appear in the corresponding book keyword list, we can assess how representative they are of the actual book. \n",
    "\n",
    "To implement these ideas, I first wrote a function which takes a text document and returns a list of all words in the document, with the lemma being taken of each word and all stopwords, punctuation, whitespaces and newlines being removed. Then I implemented the TF-IDF calculation, by first writing a function for the term frequency calculation. Then, I used both previous functions in a final TF_IDF function, which calculates the TF-IDF score for each word, and selects the n words with the highest TF-IDF scores per document. Lastly I wrote the code for comparing the keywords of the book and the summary by calculating what percentage of summary keywords appear in the list of book keywords. Given that some summaries are very short, I decided to extract 25 keywords from each summary. However, as the books are a lot longer, I decided to extract a hundred keywords, in order to make the comparison more fair. Lastly the similarity percentages were averaged over all books. \n",
    "\n",
    "This method gave the following smilarity percentages of summaries compared to books per book: 'Carmilla.txt': 24.0%, 'Crime_and_Punishment.txt': 12.0%, 'Frankenstein.txt': 16.0%, 'Dracula.txt': 36.0%, 'The_Fall_of_the_House_of_Usher.txt': 12.0%, 'The_Great_Gatsby.txt': 16.0%, 'The_Metamorphosis.txt': 12.0%, 'The_Picture_of_Dorian_Gray.txt': 12.0%, 'The_Yellow_Wallpaper.txt': 12.0%, 'Wuthering_Heights.txt': 40.0%\n",
    "\n",
    "Averaging these led to the final conclusion, which is that on average book summaries are 19.2% representative of their books. This finding indicates that though summaries are somewhat representative of books, they often fail to grasp the full essence of the book. Of course it should be noted that this analysis was performed on a limited amount of data. Therefore, it would be interesting to perform this analysis again on a larger dataset. Another point of note is that the summaries were often very short, and not always of the highest quality, it would therefore also be interesting to see if higher quality summaries are more representative of their books. "
   ]
  },
  {
   "cell_type": "code",
   "execution_count": null,
   "id": "f2fa347e",
   "metadata": {},
   "outputs": [],
   "source": []
  }
 ],
 "metadata": {
  "kernelspec": {
   "display_name": "Python 3 (ipykernel)",
   "language": "python",
   "name": "python3"
  },
  "language_info": {
   "codemirror_mode": {
    "name": "ipython",
    "version": 3
   },
   "file_extension": ".py",
   "mimetype": "text/x-python",
   "name": "python",
   "nbconvert_exporter": "python",
   "pygments_lexer": "ipython3",
   "version": "3.11.7"
  }
 },
 "nbformat": 4,
 "nbformat_minor": 5
}
