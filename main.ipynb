{
 "cells": [
  {
   "cell_type": "markdown",
   "id": "0eb2a6bf",
   "metadata": {},
   "source": [
    "Author: Julia Wervers\n",
    "Student Number: 13168665\n",
    "\n",
    "This is the main script for the final project of the data processing course. The objective of the project is to find how representative lists of keywords extracted from summaries of books compared to keywords extracted from the book themselves. "
   ]
  },
  {
   "cell_type": "code",
   "execution_count": 24,
   "id": "2dce7841",
   "metadata": {},
   "outputs": [],
   "source": [
    "#Imports\n",
    "import spacy\n",
    "# Load a large nlp pipeline with vectors\n",
    "nlp = spacy.load(\"en_core_web_lg\")"
   ]
  },
  {
   "cell_type": "code",
   "execution_count": 29,
   "id": "05ee3afa",
   "metadata": {},
   "outputs": [],
   "source": [
    "###Function to get wordlist of a book\n",
    "\n",
    "def get_book_wordlist(book_textfile):\n",
    "    #Get text \n",
    "    f = open(book_textfile, \"r\", encoding=\"utf8\")\n",
    "    book_text = f.read()\n",
    "    f.close()\n",
    "\n",
    "\n",
    "    doc = nlp(book_text)\n",
    "    #Iterate through the tokens and get the lowercase lemma of each token if the token is not a stopword and is not punctuation\n",
    "    lemmas = [token.lemma_.lower() for token in doc if not token.is_stop and not token.is_punct]\n",
    "\n",
    "    #clean up the extracted text\n",
    "    processed_text = \" \".join(lemmas).strip()\n",
    "    #Split the text up using space into a list of words\n",
    "    book_wordlist = processed_text.split()\n",
    "                      \n",
    "    return(book_wordlist)"
   ]
  },
  {
   "cell_type": "code",
   "execution_count": 30,
   "id": "3b67a05b",
   "metadata": {},
   "outputs": [
    {
     "ename": "AttributeError",
     "evalue": "'list' object has no attribute 'lower'",
     "output_type": "error",
     "traceback": [
      "\u001b[1;31m---------------------------------------------------------------------------\u001b[0m",
      "\u001b[1;31mAttributeError\u001b[0m                            Traceback (most recent call last)",
      "Cell \u001b[1;32mIn[30], line 1\u001b[0m\n\u001b[1;32m----> 1\u001b[0m \u001b[38;5;28mprint\u001b[39m(\u001b[43mget_book_wordlist\u001b[49m\u001b[43m(\u001b[49m\u001b[38;5;124;43m\"\u001b[39;49m\u001b[38;5;124;43mFrankenstein.txt\u001b[39;49m\u001b[38;5;124;43m\"\u001b[39;49m\u001b[43m)\u001b[49m)\n",
      "Cell \u001b[1;32mIn[29], line 15\u001b[0m, in \u001b[0;36mget_book_wordlist\u001b[1;34m(book_textfile)\u001b[0m\n\u001b[0;32m     12\u001b[0m lemmas \u001b[38;5;241m=\u001b[39m [token\u001b[38;5;241m.\u001b[39mlemma_ \u001b[38;5;28;01mfor\u001b[39;00m token \u001b[38;5;129;01min\u001b[39;00m doc \u001b[38;5;28;01mif\u001b[39;00m \u001b[38;5;129;01mnot\u001b[39;00m token\u001b[38;5;241m.\u001b[39mis_stop \u001b[38;5;129;01mand\u001b[39;00m \u001b[38;5;129;01mnot\u001b[39;00m token\u001b[38;5;241m.\u001b[39mis_punct]\n\u001b[0;32m     14\u001b[0m \u001b[38;5;66;03m#clean up the extracted text\u001b[39;00m\n\u001b[1;32m---> 15\u001b[0m processed_text \u001b[38;5;241m=\u001b[39m \u001b[38;5;124m\"\u001b[39m\u001b[38;5;124m \u001b[39m\u001b[38;5;124m\"\u001b[39m\u001b[38;5;241m.\u001b[39mjoin(\u001b[43mlemmas\u001b[49m\u001b[38;5;241;43m.\u001b[39;49m\u001b[43mlower\u001b[49m())\u001b[38;5;241m.\u001b[39mstrip()\n\u001b[0;32m     16\u001b[0m \u001b[38;5;66;03m#Split the text up using space into a list of words\u001b[39;00m\n\u001b[0;32m     17\u001b[0m book_wordlist \u001b[38;5;241m=\u001b[39m processed_text\u001b[38;5;241m.\u001b[39msplit()\n",
      "\u001b[1;31mAttributeError\u001b[0m: 'list' object has no attribute 'lower'"
     ]
    }
   ],
   "source": [
    "print(get_book_wordlist(\"Frankenstein.txt\"))"
   ]
  },
  {
   "cell_type": "code",
   "execution_count": null,
   "id": "141b1c84",
   "metadata": {},
   "outputs": [],
   "source": []
  }
 ],
 "metadata": {
  "kernelspec": {
   "display_name": "Python 3 (ipykernel)",
   "language": "python",
   "name": "python3"
  },
  "language_info": {
   "codemirror_mode": {
    "name": "ipython",
    "version": 3
   },
   "file_extension": ".py",
   "mimetype": "text/x-python",
   "name": "python",
   "nbconvert_exporter": "python",
   "pygments_lexer": "ipython3",
   "version": "3.11.7"
  }
 },
 "nbformat": 4,
 "nbformat_minor": 5
}
