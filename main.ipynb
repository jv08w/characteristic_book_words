{
 "cells": [
  {
   "cell_type": "markdown",
   "id": "ac8c978a",
   "metadata": {},
   "source": [
    "Author: Julia Wervers\n",
    "Student Number: 13168665\n",
    "\n",
    "This is the main script for the final project of the data processing course. The objective of the project is to find how representative lists of keywords extracted from summaries of books compared to keywords extracted from the book themselves. "
   ]
  },
  {
   "cell_type": "code",
   "execution_count": null,
   "id": "cef1f137",
   "metadata": {},
   "outputs": [],
   "source": []
  }
 ],
 "metadata": {
  "kernelspec": {
   "display_name": "Python 3 (ipykernel)",
   "language": "python",
   "name": "python3"
  },
  "language_info": {
   "codemirror_mode": {
    "name": "ipython",
    "version": 3
   },
   "file_extension": ".py",
   "mimetype": "text/x-python",
   "name": "python",
   "nbconvert_exporter": "python",
   "pygments_lexer": "ipython3",
   "version": "3.11.7"
  }
 },
 "nbformat": 4,
 "nbformat_minor": 5
}
